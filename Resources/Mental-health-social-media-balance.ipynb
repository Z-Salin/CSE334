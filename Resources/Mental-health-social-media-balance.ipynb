{
 "cells": [
  {
   "cell_type": "code",
   "execution_count": null,
   "metadata": {
    "_cell_guid": "b1076dfc-b9ad-4769-8c92-a6c4dae69d19",
    "_uuid": "8f2839f25d086af736a60e9eeb907d3b93b6e0e5",
    "execution": {
     "iopub.execute_input": "2025-10-22T11:19:47.865018Z",
     "iopub.status.busy": "2025-10-22T11:19:47.864338Z",
     "iopub.status.idle": "2025-10-22T11:19:47.871452Z",
     "shell.execute_reply": "2025-10-22T11:19:47.870494Z",
     "shell.execute_reply.started": "2025-10-22T11:19:47.864988Z"
    },
    "trusted": true
   },
   "outputs": [],
   "source": [
    "import numpy as np # linear algebra\n",
    "import pandas as pd # data processing, CSV file I/O (e.g. pd.read_csv)\n",
    "\n",
    "# Input data files are available in the read-only \"../input/\" directory\n",
    "# For example, running this (by clicking run or pressing Shift+Enter) will list all files under the input directory\n",
    "\n",
    "import os\n",
    "for dirname, _, filenames in os.walk('/kaggle/input'):\n",
    "    for filename in filenames:\n",
    "        print(os.path.join(dirname, filename))\n",
    "\n"
   ]
  },
  {
   "cell_type": "code",
   "execution_count": null,
   "metadata": {
    "execution": {
     "iopub.execute_input": "2025-10-22T11:19:48.240996Z",
     "iopub.status.busy": "2025-10-22T11:19:48.24073Z",
     "iopub.status.idle": "2025-10-22T11:19:48.363961Z",
     "shell.execute_reply": "2025-10-22T11:19:48.36315Z",
     "shell.execute_reply.started": "2025-10-22T11:19:48.240978Z"
    },
    "trusted": true
   },
   "outputs": [],
   "source": [
    "import kagglehub\n",
    "from kagglehub import KaggleDatasetAdapter\n",
    "\n",
    "# Set the correct file path, such as \"mental-health.csv\"\n",
    "file_path = \"Mental_Health_and_Social_Media_Balance_Dataset.csv\"  # Adjust this based on the actual file name in the dataset\n",
    "\n",
    "# Load the latest version\n",
    "df = kagglehub.dataset_load(  # Use dataset_load() instead of load_dataset()\n",
    "  KaggleDatasetAdapter.PANDAS,\n",
    "  \"prince7489/mental-health-and-social-media-balance-dataset\",\n",
    "  file_path,\n",
    ")\n",
    "\n",
    "# Show the first 5 records\n",
    "print(\"First 5 records: \\n\", df.head())"
   ]
  },
  {
   "cell_type": "code",
   "execution_count": null,
   "metadata": {
    "execution": {
     "iopub.execute_input": "2025-10-22T11:19:48.692925Z",
     "iopub.status.busy": "2025-10-22T11:19:48.692636Z",
     "iopub.status.idle": "2025-10-22T11:19:48.697362Z",
     "shell.execute_reply": "2025-10-22T11:19:48.696593Z",
     "shell.execute_reply.started": "2025-10-22T11:19:48.692903Z"
    },
    "trusted": true
   },
   "outputs": [],
   "source": [
    "from sklearn.model_selection import train_test_split\n",
    "from sklearn.ensemble import RandomForestRegressor\n",
    "from sklearn.preprocessing import LabelEncoder, StandardScaler\n"
   ]
  },
  {
   "cell_type": "code",
   "execution_count": null,
   "metadata": {
    "execution": {
     "iopub.execute_input": "2025-10-22T11:19:51.15805Z",
     "iopub.status.busy": "2025-10-22T11:19:51.157762Z",
     "iopub.status.idle": "2025-10-22T11:19:51.169032Z",
     "shell.execute_reply": "2025-10-22T11:19:51.168379Z",
     "shell.execute_reply.started": "2025-10-22T11:19:51.158027Z"
    },
    "trusted": true
   },
   "outputs": [],
   "source": [
    "label_encoder = LabelEncoder()\n",
    "df['Gender'] = label_encoder.fit_transform(df['Gender'])\n",
    "df = pd.get_dummies(df,columns=['Social_Media_Platform'],drop_first=True)\n",
    "\n",
    "x = df.drop(columns=['User_ID','Happiness_Index(1-10)'])\n",
    "y = df['Happiness_Index(1-10)']"
   ]
  },
  {
   "cell_type": "code",
   "execution_count": null,
   "metadata": {
    "execution": {
     "iopub.execute_input": "2025-10-22T11:19:51.628806Z",
     "iopub.status.busy": "2025-10-22T11:19:51.628534Z",
     "iopub.status.idle": "2025-10-22T11:19:51.639068Z",
     "shell.execute_reply": "2025-10-22T11:19:51.637902Z",
     "shell.execute_reply.started": "2025-10-22T11:19:51.628787Z"
    },
    "trusted": true
   },
   "outputs": [],
   "source": [
    "print(df.head())"
   ]
  },
  {
   "cell_type": "code",
   "execution_count": null,
   "metadata": {
    "execution": {
     "iopub.execute_input": "2025-10-22T11:19:53.516094Z",
     "iopub.status.busy": "2025-10-22T11:19:53.515799Z",
     "iopub.status.idle": "2025-10-22T11:19:53.535473Z",
     "shell.execute_reply": "2025-10-22T11:19:53.534479Z",
     "shell.execute_reply.started": "2025-10-22T11:19:53.516071Z"
    },
    "trusted": true
   },
   "outputs": [],
   "source": [
    "x"
   ]
  },
  {
   "cell_type": "code",
   "execution_count": null,
   "metadata": {
    "execution": {
     "iopub.execute_input": "2025-10-22T11:19:55.465887Z",
     "iopub.status.busy": "2025-10-22T11:19:55.465576Z",
     "iopub.status.idle": "2025-10-22T11:19:55.47269Z",
     "shell.execute_reply": "2025-10-22T11:19:55.47179Z",
     "shell.execute_reply.started": "2025-10-22T11:19:55.465863Z"
    },
    "trusted": true
   },
   "outputs": [],
   "source": [
    "x_train,x_test,y_train,y_test = train_test_split(x,y,test_size=0.2,random_state=42)"
   ]
  },
  {
   "cell_type": "code",
   "execution_count": null,
   "metadata": {
    "execution": {
     "iopub.execute_input": "2025-10-22T11:19:57.567761Z",
     "iopub.status.busy": "2025-10-22T11:19:57.567073Z",
     "iopub.status.idle": "2025-10-22T11:19:57.572835Z",
     "shell.execute_reply": "2025-10-22T11:19:57.572005Z",
     "shell.execute_reply.started": "2025-10-22T11:19:57.567721Z"
    },
    "trusted": true
   },
   "outputs": [],
   "source": [
    "print('x_train,x_test,y_train,y_test :',len(x_train),len(x_test),len(y_train),len(y_test))"
   ]
  },
  {
   "cell_type": "code",
   "execution_count": null,
   "metadata": {
    "execution": {
     "iopub.execute_input": "2025-10-22T11:29:27.656879Z",
     "iopub.status.busy": "2025-10-22T11:29:27.655867Z",
     "iopub.status.idle": "2025-10-22T11:29:27.858626Z",
     "shell.execute_reply": "2025-10-22T11:29:27.857658Z",
     "shell.execute_reply.started": "2025-10-22T11:29:27.656836Z"
    },
    "trusted": true
   },
   "outputs": [],
   "source": [
    "scaler = StandardScaler()\n",
    "x_train_scaled = scaler.fit_transform(x_train)\n",
    "x_test_scaled = scaler.transform(x_test)\n",
    "\n",
    "random_forest = RandomForestRegressor()\n",
    "random_forest.fit(x_train_scaled,y_train)"
   ]
  },
  {
   "cell_type": "code",
   "execution_count": null,
   "metadata": {
    "execution": {
     "iopub.execute_input": "2025-10-22T11:29:28.883994Z",
     "iopub.status.busy": "2025-10-22T11:29:28.883692Z",
     "iopub.status.idle": "2025-10-22T11:29:28.893759Z",
     "shell.execute_reply": "2025-10-22T11:29:28.89283Z",
     "shell.execute_reply.started": "2025-10-22T11:29:28.883971Z"
    },
    "trusted": true
   },
   "outputs": [],
   "source": [
    "y_pred = random_forest.predict(x_test_scaled)"
   ]
  },
  {
   "cell_type": "code",
   "execution_count": null,
   "metadata": {
    "execution": {
     "iopub.execute_input": "2025-10-22T11:29:30.919101Z",
     "iopub.status.busy": "2025-10-22T11:29:30.918526Z",
     "iopub.status.idle": "2025-10-22T11:29:30.924704Z",
     "shell.execute_reply": "2025-10-22T11:29:30.923919Z",
     "shell.execute_reply.started": "2025-10-22T11:29:30.91908Z"
    },
    "trusted": true
   },
   "outputs": [],
   "source": [
    "from sklearn.metrics import mean_squared_error , r2_score\n",
    "mse = mean_squared_error(y_test,y_pred)\n",
    "print(f'mse is : {mse}')"
   ]
  },
  {
   "cell_type": "code",
   "execution_count": null,
   "metadata": {
    "execution": {
     "iopub.execute_input": "2025-10-22T11:29:32.818016Z",
     "iopub.status.busy": "2025-10-22T11:29:32.817229Z",
     "iopub.status.idle": "2025-10-22T11:29:32.821223Z",
     "shell.execute_reply": "2025-10-22T11:29:32.820459Z",
     "shell.execute_reply.started": "2025-10-22T11:29:32.817989Z"
    },
    "trusted": true
   },
   "outputs": [],
   "source": [
    "# Since happiness index is 1-10 \n",
    "# the mse range can be around 80+\n",
    "# a mse score of 0.8 means a roungh error of 0.9 point which is not that bad\n",
    "# tho it can be improved"
   ]
  },
  {
   "cell_type": "code",
   "execution_count": null,
   "metadata": {
    "execution": {
     "iopub.execute_input": "2025-10-22T11:34:19.60365Z",
     "iopub.status.busy": "2025-10-22T11:34:19.603277Z",
     "iopub.status.idle": "2025-10-22T11:34:19.92754Z",
     "shell.execute_reply": "2025-10-22T11:34:19.926679Z",
     "shell.execute_reply.started": "2025-10-22T11:34:19.603625Z"
    },
    "trusted": true
   },
   "outputs": [],
   "source": [
    "# df['Gender'] = label_encoder.fit_transform(df['Gender'])\n",
    "# Works fine since \"Gender\" has few categories.\n",
    "# But LabelEncoder assigns arbitrary numbers (e.g., Male=1, Female=0, Other=2) → can accidentally introduce false “order” relationships.\n",
    "\n",
    "# Better:\n",
    "# Use one-hot encoding for Gender as well:\n",
    "\n",
    "df = kagglehub.dataset_load(  # Use dataset_load() instead of load_dataset()\n",
    "  KaggleDatasetAdapter.PANDAS,\n",
    "  \"prince7489/mental-health-and-social-media-balance-dataset\",\n",
    "  file_path,\n",
    ")\n",
    "\n",
    "label_encoder = LabelEncoder()\n",
    "df = pd.get_dummies(df,columns=['Social_Media_Platform','Gender'],drop_first=True)\n",
    "\n",
    "x = df.drop(columns=['User_ID','Happiness_Index(1-10)'])\n",
    "y = df['Happiness_Index(1-10)']\n",
    "\n",
    "x_train,x_test,y_train,y_test = train_test_split(x,y,test_size=0.2,random_state=42)\n",
    "\n",
    "# Random Forest Does not care about scaling so no need to scale\n",
    "\n",
    "random_forest.fit(x_train, y_train)\n",
    "y_pred = random_forest.predict(x_test)\n",
    "\n",
    "\n",
    "# mse\n",
    "from sklearn.metrics import mean_squared_error, r2_score\n",
    "import numpy as np\n",
    "\n",
    "mse = mean_squared_error(y_test, y_pred)\n",
    "rmse = np.sqrt(mse)\n",
    "r2 = r2_score(y_test, y_pred)\n",
    "\n",
    "print(f\"MSE: {mse:.3f}\")\n",
    "print(f\"RMSE: {rmse:.3f}\")\n",
    "print(f\"R²: {r2:.3f}\")\n",
    "\n",
    "\n",
    "\n"
   ]
  },
  {
   "cell_type": "code",
   "execution_count": null,
   "metadata": {
    "execution": {
     "iopub.execute_input": "2025-10-22T11:35:32.341169Z",
     "iopub.status.busy": "2025-10-22T11:35:32.340857Z",
     "iopub.status.idle": "2025-10-22T11:35:52.996971Z",
     "shell.execute_reply": "2025-10-22T11:35:52.996105Z",
     "shell.execute_reply.started": "2025-10-22T11:35:32.341145Z"
    },
    "trusted": true
   },
   "outputs": [],
   "source": [
    "# Hyperparameter tuning (most important)\n",
    "# By default, RandomForestRegressor() uses small tree depth and few estimators — not optimal.\n",
    "# Use RandomizedSearchCV to find better settings:\n",
    "\n",
    "from sklearn.model_selection import RandomizedSearchCV\n",
    "rf = RandomForestRegressor(random_state=42)\n",
    "\n",
    "param_dist = {\n",
    "    'n_estimators': [100, 200, 300, 500],\n",
    "    'max_depth': [None, 10, 20, 30, 50],\n",
    "    'min_samples_split': [2, 5, 10],\n",
    "    'min_samples_leaf': [1, 2, 4],\n",
    "    'max_features': ['sqrt', 'log2']\n",
    "}\n",
    "\n",
    "search = RandomizedSearchCV(rf, param_distributions=param_dist,\n",
    "                             n_iter=25, cv=5, scoring='neg_mean_squared_error',\n",
    "                             n_jobs=-1, random_state=42)\n",
    "search.fit(x_train, y_train)\n",
    "\n",
    "best_rf = search.best_estimator_\n",
    "y_pred = best_rf.predict(x_test)\n",
    "\n",
    "# mse\n",
    "from sklearn.metrics import mean_squared_error, r2_score\n",
    "import numpy as np\n",
    "\n",
    "mse = mean_squared_error(y_test, y_pred)\n",
    "rmse = np.sqrt(mse)\n",
    "r2 = r2_score(y_test, y_pred)\n",
    "\n",
    "print(f\"MSE: {mse:.3f}\")\n",
    "print(f\"RMSE: {rmse:.3f}\")\n",
    "print(f\"R²: {r2:.3f}\")"
   ]
  },
  {
   "cell_type": "code",
   "execution_count": null,
   "metadata": {
    "execution": {
     "iopub.execute_input": "2025-10-22T11:38:41.24576Z",
     "iopub.status.busy": "2025-10-22T11:38:41.245111Z",
     "iopub.status.idle": "2025-10-22T11:38:41.249079Z",
     "shell.execute_reply": "2025-10-22T11:38:41.248245Z",
     "shell.execute_reply.started": "2025-10-22T11:38:41.245736Z"
    },
    "trusted": true
   },
   "outputs": [],
   "source": [
    "## These parameters actually increased the error , so we will stick to the traditional RandomForest \n",
    "## without any hyperparameter tuning\n",
    "\n",
    "## Learnt something new\n",
    "## What are the parameters used here \n",
    "# n_estimators : Number of trees in the forest.\n",
    "# max_depth : Maximum depth (levels) of each decision tree ; Controls how “deep” a tree can go before stopping.\n",
    "# min_samples_split : Minimum number of samples needed to split a node.\n",
    "# min_samples_leaf : Minimum number of samples required in a leaf (final node).\n",
    "\n",
    "# max_features :How many features to consider when looking for the best split \n",
    " # -->Controls the randomness between trees.\n",
    " # --> Fewer features = more diversity among trees → better generalization.\n",
    " # --> Common options:\n",
    " # --> 'sqrt' → use √(total features) per split (default for regression)\n",
    " # --> 'log2' → use log₂(total features)"
   ]
  }
 ],
 "metadata": {
  "kaggle": {
   "accelerator": "none",
   "dataSources": [
    {
     "datasetId": 8500602,
     "isSourceIdPinned": false,
     "sourceId": 13395699,
     "sourceType": "datasetVersion"
    }
   ],
   "dockerImageVersionId": 31153,
   "isGpuEnabled": false,
   "isInternetEnabled": false,
   "language": "python",
   "sourceType": "notebook"
  },
  "kernelspec": {
   "display_name": "Python 3",
   "language": "python",
   "name": "python3"
  },
  "language_info": {
   "codemirror_mode": {
    "name": "ipython",
    "version": 3
   },
   "file_extension": ".py",
   "mimetype": "text/x-python",
   "name": "python",
   "nbconvert_exporter": "python",
   "pygments_lexer": "ipython3",
   "version": "3.11.13"
  }
 },
 "nbformat": 4,
 "nbformat_minor": 4
}
